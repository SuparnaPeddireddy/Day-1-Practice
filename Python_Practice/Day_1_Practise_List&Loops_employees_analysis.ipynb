{
 "cells": [
  {
   "cell_type": "markdown",
   "id": "c30b0702-a3ab-4f18-a256-e00123ecdeff",
   "metadata": {},
   "source": [
    "# ✅ Python Practice (Lists & Loops)"
   ]
  },
  {
   "cell_type": "markdown",
   "id": "65eeb070-88af-4826-a6a5-45cb9c7a915a",
   "metadata": {},
   "source": [
    "###  Create a list of numbers from 1 to 20 and print only the even numbers."
   ]
  },
  {
   "cell_type": "code",
   "execution_count": 5,
   "id": "378189d7-ab36-4631-bebc-fb93c46112f4",
   "metadata": {
    "scrolled": true
   },
   "outputs": [
    {
     "name": "stdout",
     "output_type": "stream",
     "text": [
      "Even Numbers in list l: 2\n",
      "Even Numbers in list l: 4\n",
      "Even Numbers in list l: 6\n",
      "Even Numbers in list l: 8\n",
      "Even Numbers in list l: 10\n",
      "Even Numbers in list l: 12\n",
      "Even Numbers in list l: 14\n",
      "Even Numbers in list l: 16\n",
      "Even Numbers in list l: 18\n",
      "Even Numbers in list l: 20\n"
     ]
    }
   ],
   "source": [
    "l=[1,2,3,4,5,6,7,8,9,10,11,12,13,14,15,16,17,18,19,20]\n",
    "for b in l:\n",
    "    if b%2==0:\n",
    "        print(\"Even Numbers in list l:\",b)"
   ]
  },
  {
   "cell_type": "markdown",
   "id": "cda221a0-f996-41da-9b87-fff196467e32",
   "metadata": {},
   "source": [
    "### Iterate through the list [“Excel”, “SQL”, “Python”, “Power BI”] and print each item in uppercase."
   ]
  },
  {
   "cell_type": "code",
   "execution_count": 12,
   "id": "6c4eca34-a5ca-4a90-ac2c-4e477723272c",
   "metadata": {},
   "outputs": [
    {
     "name": "stdout",
     "output_type": "stream",
     "text": [
      "Uppercase Skill name: ['EXCEL', 'SQL', 'PYTHON', 'POWER BI']\n"
     ]
    }
   ],
   "source": [
    "skill=[\"Excel\",\"SQL\",\"Python\",\"Power BI\"]\n",
    "for i in range(len(skill)):\n",
    "    skill[i]=skill[i].upper()\n",
    "print(\"Uppercase Skill name:\",skill)"
   ]
  },
  {
   "cell_type": "markdown",
   "id": "0672bb00-c426-4a4c-bc6f-45fdc313736b",
   "metadata": {},
   "source": [
    "### Calculate the sum of numbers from 1 to 50 using a for loop"
   ]
  },
  {
   "cell_type": "code",
   "execution_count": 17,
   "id": "4e011f62-ff5c-4f07-b155-50afabec7496",
   "metadata": {},
   "outputs": [
    {
     "name": "stdout",
     "output_type": "stream",
     "text": [
      "Sum of numbers frm 1 to 50 is: 1275\n"
     ]
    }
   ],
   "source": [
    "total=0\n",
    "\n",
    "for i in range(1,51):\n",
    "    total +=i \n",
    "\n",
    "print(\"Sum of numbers frm 1 to 50 is:\",total)\n",
    "    "
   ]
  },
  {
   "cell_type": "markdown",
   "id": "1c3ae17f-05fd-481f-a133-0834b87c035b",
   "metadata": {},
   "source": [
    "#### Create a list of random ages between 18 and 50 (generate 10 ages) and print ages above 30."
   ]
  },
  {
   "cell_type": "code",
   "execution_count": 20,
   "id": "77c3c271-c64f-49b9-9d2d-9aea38d97125",
   "metadata": {},
   "outputs": [
    {
     "name": "stdout",
     "output_type": "stream",
     "text": [
      "Generated Random age: [41, 42, 44, 50, 26, 29, 25, 21, 27, 18]\n",
      "ages above 30:\n",
      "41\n",
      "42\n",
      "44\n",
      "50\n"
     ]
    }
   ],
   "source": [
    "import random\n",
    "\n",
    "ages= [random.randint(18,50) for _ in range(10)]\n",
    "print(\"Generated Random age:\",ages)\n",
    "\n",
    "print(\"ages above 30:\")\n",
    "for age in ages:\n",
    "    if age > 30:\n",
    "        print(age)"
   ]
  },
  {
   "cell_type": "markdown",
   "id": "bf85774b-2200-474b-bb39-7d1d4b490ebd",
   "metadata": {},
   "source": [
    "#### For a list [23, 45, 12, 67, 34], print “High” if the number is above 40 else print “Low.”"
   ]
  },
  {
   "cell_type": "code",
   "execution_count": 19,
   "id": "ca7ac521-1b3a-4c84-a778-ed5b7bd17126",
   "metadata": {},
   "outputs": [
    {
     "name": "stdout",
     "output_type": "stream",
     "text": [
      "The number is low\n",
      "The Number is High\n",
      "The number is low\n",
      "The Number is High\n",
      "The number is low\n"
     ]
    }
   ],
   "source": [
    "a=[23, 45, 12, 67, 34]\n",
    "\n",
    "for b in a:\n",
    "    if b>40:\n",
    "        print(\"The Number is High\")\n",
    "    else:\n",
    "        print(\"The number is low\")"
   ]
  },
  {
   "cell_type": "markdown",
   "id": "8f538bb5-96b8-40e7-a645-1e831e4321a3",
   "metadata": {},
   "source": [
    "# ✅ Python Pandas Practice - employees_analysis"
   ]
  },
  {
   "cell_type": "markdown",
   "id": "d1b71a2c-4946-40a4-a225-72cef4747367",
   "metadata": {},
   "source": [
    "#### ✅ Load the employees.csv file into a pandas DataFrame."
   ]
  },
  {
   "cell_type": "code",
   "execution_count": 23,
   "id": "8d9065b2-bc6e-496b-bee0-5e7489c5f699",
   "metadata": {},
   "outputs": [
    {
     "data": {
      "text/html": [
       "<div>\n",
       "<style scoped>\n",
       "    .dataframe tbody tr th:only-of-type {\n",
       "        vertical-align: middle;\n",
       "    }\n",
       "\n",
       "    .dataframe tbody tr th {\n",
       "        vertical-align: top;\n",
       "    }\n",
       "\n",
       "    .dataframe thead th {\n",
       "        text-align: right;\n",
       "    }\n",
       "</style>\n",
       "<table border=\"1\" class=\"dataframe\">\n",
       "  <thead>\n",
       "    <tr style=\"text-align: right;\">\n",
       "      <th></th>\n",
       "      <th>employee_id</th>\n",
       "      <th>first_name</th>\n",
       "      <th>last_name</th>\n",
       "      <th>email</th>\n",
       "      <th>phone_number</th>\n",
       "      <th>hire_date</th>\n",
       "      <th>job_id</th>\n",
       "      <th>salary</th>\n",
       "      <th>manager_id</th>\n",
       "      <th>department_id</th>\n",
       "    </tr>\n",
       "  </thead>\n",
       "  <tbody>\n",
       "    <tr>\n",
       "      <th>0</th>\n",
       "      <td>100</td>\n",
       "      <td>Steven</td>\n",
       "      <td>King</td>\n",
       "      <td>steven.king@sqltutorial.org</td>\n",
       "      <td>515.123.4567</td>\n",
       "      <td>1987-06-17</td>\n",
       "      <td>4</td>\n",
       "      <td>24000.0</td>\n",
       "      <td>NaN</td>\n",
       "      <td>9</td>\n",
       "    </tr>\n",
       "    <tr>\n",
       "      <th>1</th>\n",
       "      <td>101</td>\n",
       "      <td>Neena</td>\n",
       "      <td>Kochhar</td>\n",
       "      <td>neena.kochhar@sqltutorial.org</td>\n",
       "      <td>515.123.4568</td>\n",
       "      <td>1989-09-21</td>\n",
       "      <td>5</td>\n",
       "      <td>17000.0</td>\n",
       "      <td>100.0</td>\n",
       "      <td>9</td>\n",
       "    </tr>\n",
       "    <tr>\n",
       "      <th>2</th>\n",
       "      <td>102</td>\n",
       "      <td>Lex</td>\n",
       "      <td>De Haan</td>\n",
       "      <td>lex.de haan@sqltutorial.org</td>\n",
       "      <td>515.123.4569</td>\n",
       "      <td>1993-01-13</td>\n",
       "      <td>5</td>\n",
       "      <td>17000.0</td>\n",
       "      <td>100.0</td>\n",
       "      <td>9</td>\n",
       "    </tr>\n",
       "    <tr>\n",
       "      <th>3</th>\n",
       "      <td>103</td>\n",
       "      <td>Alexander</td>\n",
       "      <td>Hunold</td>\n",
       "      <td>alexander.hunold@sqltutorial.org</td>\n",
       "      <td>590.423.4567</td>\n",
       "      <td>1990-01-03</td>\n",
       "      <td>9</td>\n",
       "      <td>9000.0</td>\n",
       "      <td>102.0</td>\n",
       "      <td>6</td>\n",
       "    </tr>\n",
       "    <tr>\n",
       "      <th>4</th>\n",
       "      <td>104</td>\n",
       "      <td>Bruce</td>\n",
       "      <td>Ernst</td>\n",
       "      <td>bruce.ernst@sqltutorial.org</td>\n",
       "      <td>590.423.4568</td>\n",
       "      <td>1991-05-21</td>\n",
       "      <td>9</td>\n",
       "      <td>6000.0</td>\n",
       "      <td>103.0</td>\n",
       "      <td>6</td>\n",
       "    </tr>\n",
       "  </tbody>\n",
       "</table>\n",
       "</div>"
      ],
      "text/plain": [
       "   employee_id first_name last_name                             email  \\\n",
       "0          100     Steven      King       steven.king@sqltutorial.org   \n",
       "1          101      Neena   Kochhar     neena.kochhar@sqltutorial.org   \n",
       "2          102        Lex   De Haan       lex.de haan@sqltutorial.org   \n",
       "3          103  Alexander    Hunold  alexander.hunold@sqltutorial.org   \n",
       "4          104      Bruce     Ernst       bruce.ernst@sqltutorial.org   \n",
       "\n",
       "   phone_number   hire_date  job_id   salary  manager_id  department_id  \n",
       "0  515.123.4567  1987-06-17       4  24000.0         NaN              9  \n",
       "1  515.123.4568  1989-09-21       5  17000.0       100.0              9  \n",
       "2  515.123.4569  1993-01-13       5  17000.0       100.0              9  \n",
       "3  590.423.4567  1990-01-03       9   9000.0       102.0              6  \n",
       "4  590.423.4568  1991-05-21       9   6000.0       103.0              6  "
      ]
     },
     "execution_count": 23,
     "metadata": {},
     "output_type": "execute_result"
    }
   ],
   "source": [
    "import pandas as pd\n",
    "df=pd.read_csv('employees.csv')\n",
    "df.head()"
   ]
  },
  {
   "cell_type": "markdown",
   "id": "00d52c96-fdd8-4e00-8d13-3e0b98bdcc1c",
   "metadata": {},
   "source": [
    "##### ✅ Display the first 10 rows of the dataset."
   ]
  },
  {
   "cell_type": "code",
   "execution_count": 24,
   "id": "b9820e07-eeb8-4b2f-8164-920761ea6e48",
   "metadata": {},
   "outputs": [
    {
     "data": {
      "text/html": [
       "<div>\n",
       "<style scoped>\n",
       "    .dataframe tbody tr th:only-of-type {\n",
       "        vertical-align: middle;\n",
       "    }\n",
       "\n",
       "    .dataframe tbody tr th {\n",
       "        vertical-align: top;\n",
       "    }\n",
       "\n",
       "    .dataframe thead th {\n",
       "        text-align: right;\n",
       "    }\n",
       "</style>\n",
       "<table border=\"1\" class=\"dataframe\">\n",
       "  <thead>\n",
       "    <tr style=\"text-align: right;\">\n",
       "      <th></th>\n",
       "      <th>employee_id</th>\n",
       "      <th>first_name</th>\n",
       "      <th>last_name</th>\n",
       "      <th>email</th>\n",
       "      <th>phone_number</th>\n",
       "      <th>hire_date</th>\n",
       "      <th>job_id</th>\n",
       "      <th>salary</th>\n",
       "      <th>manager_id</th>\n",
       "      <th>department_id</th>\n",
       "    </tr>\n",
       "  </thead>\n",
       "  <tbody>\n",
       "    <tr>\n",
       "      <th>0</th>\n",
       "      <td>100</td>\n",
       "      <td>Steven</td>\n",
       "      <td>King</td>\n",
       "      <td>steven.king@sqltutorial.org</td>\n",
       "      <td>515.123.4567</td>\n",
       "      <td>1987-06-17</td>\n",
       "      <td>4</td>\n",
       "      <td>24000.0</td>\n",
       "      <td>NaN</td>\n",
       "      <td>9</td>\n",
       "    </tr>\n",
       "    <tr>\n",
       "      <th>1</th>\n",
       "      <td>101</td>\n",
       "      <td>Neena</td>\n",
       "      <td>Kochhar</td>\n",
       "      <td>neena.kochhar@sqltutorial.org</td>\n",
       "      <td>515.123.4568</td>\n",
       "      <td>1989-09-21</td>\n",
       "      <td>5</td>\n",
       "      <td>17000.0</td>\n",
       "      <td>100.0</td>\n",
       "      <td>9</td>\n",
       "    </tr>\n",
       "    <tr>\n",
       "      <th>2</th>\n",
       "      <td>102</td>\n",
       "      <td>Lex</td>\n",
       "      <td>De Haan</td>\n",
       "      <td>lex.de haan@sqltutorial.org</td>\n",
       "      <td>515.123.4569</td>\n",
       "      <td>1993-01-13</td>\n",
       "      <td>5</td>\n",
       "      <td>17000.0</td>\n",
       "      <td>100.0</td>\n",
       "      <td>9</td>\n",
       "    </tr>\n",
       "    <tr>\n",
       "      <th>3</th>\n",
       "      <td>103</td>\n",
       "      <td>Alexander</td>\n",
       "      <td>Hunold</td>\n",
       "      <td>alexander.hunold@sqltutorial.org</td>\n",
       "      <td>590.423.4567</td>\n",
       "      <td>1990-01-03</td>\n",
       "      <td>9</td>\n",
       "      <td>9000.0</td>\n",
       "      <td>102.0</td>\n",
       "      <td>6</td>\n",
       "    </tr>\n",
       "    <tr>\n",
       "      <th>4</th>\n",
       "      <td>104</td>\n",
       "      <td>Bruce</td>\n",
       "      <td>Ernst</td>\n",
       "      <td>bruce.ernst@sqltutorial.org</td>\n",
       "      <td>590.423.4568</td>\n",
       "      <td>1991-05-21</td>\n",
       "      <td>9</td>\n",
       "      <td>6000.0</td>\n",
       "      <td>103.0</td>\n",
       "      <td>6</td>\n",
       "    </tr>\n",
       "    <tr>\n",
       "      <th>5</th>\n",
       "      <td>105</td>\n",
       "      <td>David</td>\n",
       "      <td>Austin</td>\n",
       "      <td>david.austin@sqltutorial.org</td>\n",
       "      <td>590.423.4569</td>\n",
       "      <td>1997-06-25</td>\n",
       "      <td>9</td>\n",
       "      <td>4800.0</td>\n",
       "      <td>103.0</td>\n",
       "      <td>6</td>\n",
       "    </tr>\n",
       "    <tr>\n",
       "      <th>6</th>\n",
       "      <td>106</td>\n",
       "      <td>Valli</td>\n",
       "      <td>Pataballa</td>\n",
       "      <td>valli.pataballa@sqltutorial.org</td>\n",
       "      <td>590.423.4560</td>\n",
       "      <td>1998-02-05</td>\n",
       "      <td>9</td>\n",
       "      <td>4800.0</td>\n",
       "      <td>103.0</td>\n",
       "      <td>6</td>\n",
       "    </tr>\n",
       "    <tr>\n",
       "      <th>7</th>\n",
       "      <td>107</td>\n",
       "      <td>Diana</td>\n",
       "      <td>Lorentz</td>\n",
       "      <td>diana.lorentz@sqltutorial.org</td>\n",
       "      <td>590.423.5567</td>\n",
       "      <td>1999-02-07</td>\n",
       "      <td>9</td>\n",
       "      <td>4200.0</td>\n",
       "      <td>103.0</td>\n",
       "      <td>6</td>\n",
       "    </tr>\n",
       "    <tr>\n",
       "      <th>8</th>\n",
       "      <td>108</td>\n",
       "      <td>Nancy</td>\n",
       "      <td>Greenberg</td>\n",
       "      <td>nancy.greenberg@sqltutorial.org</td>\n",
       "      <td>515.124.4569</td>\n",
       "      <td>1994-08-17</td>\n",
       "      <td>7</td>\n",
       "      <td>12000.0</td>\n",
       "      <td>101.0</td>\n",
       "      <td>10</td>\n",
       "    </tr>\n",
       "    <tr>\n",
       "      <th>9</th>\n",
       "      <td>109</td>\n",
       "      <td>Daniel</td>\n",
       "      <td>Faviet</td>\n",
       "      <td>daniel.faviet@sqltutorial.org</td>\n",
       "      <td>515.124.4169</td>\n",
       "      <td>1994-08-16</td>\n",
       "      <td>6</td>\n",
       "      <td>9000.0</td>\n",
       "      <td>108.0</td>\n",
       "      <td>10</td>\n",
       "    </tr>\n",
       "  </tbody>\n",
       "</table>\n",
       "</div>"
      ],
      "text/plain": [
       "   employee_id first_name  last_name                             email  \\\n",
       "0          100     Steven       King       steven.king@sqltutorial.org   \n",
       "1          101      Neena    Kochhar     neena.kochhar@sqltutorial.org   \n",
       "2          102        Lex    De Haan       lex.de haan@sqltutorial.org   \n",
       "3          103  Alexander     Hunold  alexander.hunold@sqltutorial.org   \n",
       "4          104      Bruce      Ernst       bruce.ernst@sqltutorial.org   \n",
       "5          105      David     Austin      david.austin@sqltutorial.org   \n",
       "6          106      Valli  Pataballa   valli.pataballa@sqltutorial.org   \n",
       "7          107      Diana    Lorentz     diana.lorentz@sqltutorial.org   \n",
       "8          108      Nancy  Greenberg   nancy.greenberg@sqltutorial.org   \n",
       "9          109     Daniel     Faviet     daniel.faviet@sqltutorial.org   \n",
       "\n",
       "   phone_number   hire_date  job_id   salary  manager_id  department_id  \n",
       "0  515.123.4567  1987-06-17       4  24000.0         NaN              9  \n",
       "1  515.123.4568  1989-09-21       5  17000.0       100.0              9  \n",
       "2  515.123.4569  1993-01-13       5  17000.0       100.0              9  \n",
       "3  590.423.4567  1990-01-03       9   9000.0       102.0              6  \n",
       "4  590.423.4568  1991-05-21       9   6000.0       103.0              6  \n",
       "5  590.423.4569  1997-06-25       9   4800.0       103.0              6  \n",
       "6  590.423.4560  1998-02-05       9   4800.0       103.0              6  \n",
       "7  590.423.5567  1999-02-07       9   4200.0       103.0              6  \n",
       "8  515.124.4569  1994-08-17       7  12000.0       101.0             10  \n",
       "9  515.124.4169  1994-08-16       6   9000.0       108.0             10  "
      ]
     },
     "execution_count": 24,
     "metadata": {},
     "output_type": "execute_result"
    }
   ],
   "source": [
    "df.head(10)"
   ]
  },
  {
   "cell_type": "markdown",
   "id": "b5985c1c-a69b-4511-97b2-e6862b814584",
   "metadata": {},
   "source": [
    "#### ✅ Show the average salary of all employees"
   ]
  },
  {
   "cell_type": "code",
   "execution_count": 26,
   "id": "7e1c9638-bbf1-45bb-bd7d-1005ed77655d",
   "metadata": {},
   "outputs": [
    {
     "name": "stdout",
     "output_type": "stream",
     "text": [
      "The average salary of all employees: 8060.0\n"
     ]
    }
   ],
   "source": [
    "average_salary=df['salary'].mean()\n",
    "print(\"The average salary of all employees:\",average_salary)"
   ]
  },
  {
   "cell_type": "markdown",
   "id": "c40b9c06-b851-470e-a771-e5b37a6cdd33",
   "metadata": {},
   "source": [
    "#### ✅ Filter records for employees working in the 6 department."
   ]
  },
  {
   "cell_type": "code",
   "execution_count": 27,
   "id": "358be69d-4f45-4ce3-9feb-f56f2294597a",
   "metadata": {},
   "outputs": [
    {
     "name": "stdout",
     "output_type": "stream",
     "text": [
      "Employees working in department 6:    employee_id first_name  last_name                             email  \\\n",
      "3          103  Alexander     Hunold  alexander.hunold@sqltutorial.org   \n",
      "4          104      Bruce      Ernst       bruce.ernst@sqltutorial.org   \n",
      "5          105      David     Austin      david.austin@sqltutorial.org   \n",
      "6          106      Valli  Pataballa   valli.pataballa@sqltutorial.org   \n",
      "7          107      Diana    Lorentz     diana.lorentz@sqltutorial.org   \n",
      "\n",
      "   phone_number   hire_date  job_id  salary  manager_id  department_id  \n",
      "3  590.423.4567  1990-01-03       9  9000.0       102.0              6  \n",
      "4  590.423.4568  1991-05-21       9  6000.0       103.0              6  \n",
      "5  590.423.4569  1997-06-25       9  4800.0       103.0              6  \n",
      "6  590.423.4560  1998-02-05       9  4800.0       103.0              6  \n",
      "7  590.423.5567  1999-02-07       9  4200.0       103.0              6  \n"
     ]
    }
   ],
   "source": [
    "department_id = 6\n",
    "df_6 = df[df['department_id'] == department_id]\n",
    "print(\"Employees working in department 6:\",df_6)"
   ]
  },
  {
   "cell_type": "markdown",
   "id": "55793c67-262c-4ae1-a377-25614d1521a4",
   "metadata": {},
   "source": [
    "#### ✅ Plot a bar chart showing the count of employees by department."
   ]
  },
  {
   "cell_type": "code",
   "execution_count": 29,
   "id": "c30d0d6a-d995-453f-b267-78e8b7a4fa38",
   "metadata": {},
   "outputs": [
    {
     "data": {
      "image/png": "[encoded data removed]",
      "text/plain": [
       "<Figure size 640x480 with 1 Axes>"
      ]
     },
     "metadata": {},
     "output_type": "display_data"
    }
   ],
   "source": [
    "import matplotlib.pyplot as plt\n",
    "\n",
    "dept_count=df['department_id'].value_counts()\n",
    "\n",
    "# Plot bar chart\n",
    "dept_count.plot(kind='bar')\n",
    "plt.xlabel('Department ID')\n",
    "plt.ylabel('Numnber of Emplioyees')\n",
    "plt.title('Count of Employees by Department')\n",
    "plt.show()"
   ]
  },
  {
   "cell_type": "code",
   "execution_count": null,
   "id": "812d8bf4-9424-425e-9215-4d428e3da402",
   "metadata": {},
   "outputs": [],
   "source": []
  }
 ],
 "metadata": {
  "kernelspec": {
   "display_name": "Python 3 (ipykernel)",
   "language": "python",
   "name": "python3"
  },
  "language_info": {
   "codemirror_mode": {
    "name": "ipython",
    "version": 3
   },
   "file_extension": ".py",
   "mimetype": "text/x-python",
   "name": "python",
   "nbconvert_exporter": "python",
   "pygments_lexer": "ipython3",
   "version": "3.13.5"
  }
 },
 "nbformat": 4,
 "nbformat_minor": 5
}
